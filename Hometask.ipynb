{
 "cells": [
  {
   "cell_type": "markdown",
   "metadata": {},
   "source": [
    "# Домашнее задание: чистка данных и снижение размерности"
   ]
  },
  {
   "cell_type": "markdown",
   "metadata": {},
   "source": [
    "**1 часть. Чистка данных. Влияние зашумленных данных на работу линейных классификаторов.**"
   ]
  },
  {
   "cell_type": "markdown",
   "metadata": {},
   "source": [
    "Сгенерируйте выборку, элементы которой имеют два числовых признака, для задачи линейной регрессии. Затем немного зашумите её любым способом. Затем добавьте чуть-чуть выбросов (не более 5% от всех точек). Изобразите полученные точки на плоскости. "
   ]
  },
  {
   "cell_type": "code",
   "execution_count": 1,
   "metadata": {
    "collapsed": true
   },
   "outputs": [],
   "source": [
    "#Your code is here"
   ]
  },
  {
   "cell_type": "markdown",
   "metadata": {},
   "source": [
    "Примените линейную регрессию к сгенерированным данным. Изобразите на одном рисунке исходные данные и регрессионную прямую. Посчитайте ошибку."
   ]
  },
  {
   "cell_type": "code",
   "execution_count": 2,
   "metadata": {
    "collapsed": true
   },
   "outputs": [],
   "source": [
    "#Your code is here"
   ]
  },
  {
   "cell_type": "markdown",
   "metadata": {},
   "source": [
    "Удалите выбросы с помощью методов sklearn или с помощью любых других методов, которые вам нравятся. Проведите регрессионную прямую через очищенные данные. Визуализируйте результат и выведите на экран ошибку. Используйте как минимум два способа удаления выбросов."
   ]
  },
  {
   "cell_type": "code",
   "execution_count": 3,
   "metadata": {
    "collapsed": true
   },
   "outputs": [],
   "source": [
    "#Your code is here"
   ]
  },
  {
   "cell_type": "markdown",
   "metadata": {},
   "source": [
    "**Выводы:**"
   ]
  },
  {
   "cell_type": "markdown",
   "metadata": {},
   "source": [
    "1) Объясните, почему линейная регрессия сильно чувствительна к выбросам.\n",
    "\n",
    "2) Есть ли разница в использовании различных методов удаления выбросов? Какой метод вы считаете наиболее подходящим для данной задачи и почему?\n",
    "\n",
    "3) На сколько процентов уменьшилась/увеличилась ошибка в регрессии после удаления выбросов?"
   ]
  },
  {
   "cell_type": "markdown",
   "metadata": {},
   "source": [
    "**2 часть. В этой части домашней работы вам предлагается ознакомиться с методом главных компонент.**"
   ]
  },
  {
   "cell_type": "code",
   "execution_count": null,
   "metadata": {
    "collapsed": true
   },
   "outputs": [],
   "source": [
    "%matplotlib inline\n",
    "import numpy as np\n",
    "import matplotlib.pyplot as plt"
   ]
  },
  {
   "cell_type": "markdown",
   "metadata": {},
   "source": [
    "Загрузите датасет fetch_olivetti_faces, выведите на экран 5-10 изображений. Изображения в датасете имеют размеры 64 на 64 пикселя, а хранятся в виде одномерного массива длиной 64 * 64, то есть для корректного вывода изображений на экран необходимо сделать reshape."
   ]
  },
  {
   "cell_type": "code",
   "execution_count": null,
   "metadata": {
    "collapsed": false
   },
   "outputs": [],
   "source": [
    "from sklearn.decomposition import PCA\n",
    "from sklearn.datasets import fetch_olivetti_faces\n",
    "\n",
    "faces = fetch_olivetti_faces(shuffle=True, random_state=11)\n",
    "faces_images = faces.data\n",
    "faces_ids = faces.target\n",
    "image_shape = (64, 64)\n",
    "    \n",
    "#Your code is here"
   ]
  },
  {
   "cell_type": "markdown",
   "metadata": {},
   "source": [
    "Примените к элементам датасета PCA и выведите на экран первые 5-10 главных компонент. Не забудьте центрировать данные."
   ]
  },
  {
   "cell_type": "code",
   "execution_count": null,
   "metadata": {
    "collapsed": false
   },
   "outputs": [],
   "source": [
    "#Your code is here"
   ]
  },
  {
   "cell_type": "markdown",
   "metadata": {},
   "source": [
    "Давайте посмотрим, как изменится качество классификации, если использовать вместо старых признаков новые"
   ]
  },
  {
   "cell_type": "code",
   "execution_count": null,
   "metadata": {
    "collapsed": false
   },
   "outputs": [],
   "source": [
    "from sklearn.ensemble import RandomForestClassifier\n",
    "from sklearn.grid_search import GridSearchCV\n",
    "\n",
    "clf = GridSearchCV(RandomForestClassifier(),\n",
    "                       {'n_estimators': [100, 200, 500, 800], 'max_depth': [2, 3, 4, 5]},\n",
    "                       cv=5)\n",
    "\n",
    "#Your code is here\n",
    "#Сравните качество классификации на исходных изображениях и на восстановленных."
   ]
  },
  {
   "cell_type": "markdown",
   "metadata": {},
   "source": [
    "Сожмём изображения, оставив долю главных компонент, равную compress_ratio.\n",
    "\n",
    "Вам необходимо сжать изображения с помощью PCA, а затем вывести на экран восстановленные после сжатия изображения."
   ]
  },
  {
   "cell_type": "code",
   "execution_count": null,
   "metadata": {
    "collapsed": false
   },
   "outputs": [],
   "source": [
    "base_size = image_shape[0] * image_shape[1]\n",
    "\n",
    "def compress_and_show(compress_ratio):\n",
    "    red = PCA(n_components=int(base_size * compress_ratio))\n",
    "    red.fit(faces_images)\n",
    "    \n",
    "    faces_compressed = ... #сжатые с помощью PCA данные\n",
    "    faces_restored = ... #восстановленные после сжатия данные. Не забудьте к ним прибавить среднее, которое вы вычитали для центрирования.\n",
    "\n",
    "    #Your code is here\n",
    "    #Здесь вам нужно вывести на экран 5-10 изображений из faces_restored\n",
    "    \n",
    "compress_and_show(0.1)"
   ]
  },
  {
   "cell_type": "markdown",
   "metadata": {},
   "source": [
    "Подберите наименьший compress_ratio, при котором лица остаются узнаваемыми."
   ]
  },
  {
   "cell_type": "code",
   "execution_count": null,
   "metadata": {
    "collapsed": true
   },
   "outputs": [],
   "source": [
    "#Your code is here"
   ]
  },
  {
   "cell_type": "markdown",
   "metadata": {},
   "source": [
    "**Выводы:**"
   ]
  },
  {
   "cell_type": "markdown",
   "metadata": {},
   "source": [
    "1) Напишите, как вы могли бы интерпретировать первые несколько главных компонент?\n",
    "\n",
    "2) Как изменилось качество классификации при использовании PCA-признаков вместо исходных?\n",
    "\n",
    "3) Какие полезные свойства PCA вы могли наблюдать на примере из данного ноутбука?"
   ]
  },
  {
   "cell_type": "code",
   "execution_count": null,
   "metadata": {
    "collapsed": true
   },
   "outputs": [],
   "source": []
  }
 ],
 "metadata": {
  "kernelspec": {
   "display_name": "Python 2",
   "language": "python",
   "name": "python2"
  },
  "language_info": {
   "codemirror_mode": {
    "name": "ipython",
    "version": 2
   },
   "file_extension": ".py",
   "mimetype": "text/x-python",
   "name": "python",
   "nbconvert_exporter": "python",
   "pygments_lexer": "ipython2",
   "version": "2.7.12"
  }
 },
 "nbformat": 4,
 "nbformat_minor": 2
}
